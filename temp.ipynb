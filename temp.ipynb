{
 "cells": [
  {
   "cell_type": "code",
   "execution_count": 1,
   "id": "3b6dd12a",
   "metadata": {},
   "outputs": [
    {
     "ename": "ImportError",
     "evalue": "cannot import name 'ddcolor_arch_utils' from 'basicsr.archs' (d:\\AnacondaFolder\\envs\\first-env\\Lib\\site-packages\\basicsr\\archs\\__init__.py)",
     "output_type": "error",
     "traceback": [
      "\u001b[1;31m---------------------------------------------------------------------------\u001b[0m",
      "\u001b[1;31mImportError\u001b[0m                               Traceback (most recent call last)",
      "Cell \u001b[1;32mIn[1], line 1\u001b[0m\n\u001b[1;32m----> 1\u001b[0m \u001b[38;5;28;01mfrom\u001b[39;00m\u001b[38;5;250m \u001b[39m\u001b[38;5;21;01mbasicsr\u001b[39;00m\u001b[38;5;21;01m.\u001b[39;00m\u001b[38;5;21;01marchs\u001b[39;00m\u001b[38;5;250m \u001b[39m\u001b[38;5;28;01mimport\u001b[39;00m ddcolor_arch_utils\n",
      "\u001b[1;31mImportError\u001b[0m: cannot import name 'ddcolor_arch_utils' from 'basicsr.archs' (d:\\AnacondaFolder\\envs\\first-env\\Lib\\site-packages\\basicsr\\archs\\__init__.py)"
     ]
    }
   ],
   "source": [
    "from basicsr.archs import ddcolor_arch_utils"
   ]
  },
  {
   "cell_type": "code",
   "execution_count": 2,
   "id": "eaa167de",
   "metadata": {},
   "outputs": [],
   "source": [
    "from Image_Super_Resolution.DiffIR_SR.infer import pad_test_sr"
   ]
  },
  {
   "cell_type": "code",
   "execution_count": 6,
   "id": "016e04d6",
   "metadata": {},
   "outputs": [],
   "source": [
    "import sys\n",
    "import os\n",
    "# sys.path.append(os.path.abspath('./DDColor'))\n",
    "from DDColor.ddcolor_model import DDColor"
   ]
  },
  {
   "cell_type": "code",
   "execution_count": null,
   "id": "45150536",
   "metadata": {},
   "outputs": [],
   "source": []
  }
 ],
 "metadata": {
  "kernelspec": {
   "display_name": "base",
   "language": "python",
   "name": "python3"
  },
  "language_info": {
   "codemirror_mode": {
    "name": "ipython",
    "version": 3
   },
   "file_extension": ".py",
   "mimetype": "text/x-python",
   "name": "python",
   "nbconvert_exporter": "python",
   "pygments_lexer": "ipython3",
   "version": "3.12.3"
  }
 },
 "nbformat": 4,
 "nbformat_minor": 5
}
